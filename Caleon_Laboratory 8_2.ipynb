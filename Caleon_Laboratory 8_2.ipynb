{
 "cells": [
  {
   "cell_type": "code",
   "execution_count": 2,
   "metadata": {},
   "outputs": [],
   "source": [
    "cpe_directory = {\n",
    "    \"Student 1\":{\n",
    "        \"ID\" : \"12198\",\n",
    "        \"Gender\" : \"Male\",\n",
    "        \"GPA\" : 3.4,\n",
    "        \"Scholar\" : True,\n",
    "        \"Test Scores\" : {\"Math\" : 90, \"English\" : 95}\n",
    "    },\n",
    "    \"Student 2\":{\n",
    "        \"ID\" : \"12199\",\n",
    "        \"Gender\" : \"Male\",\n",
    "        \"GPA\" : 1.5,\n",
    "        \"Scholar\" : True,\n",
    "        \"Test Scores\" : {\"Math\" : 80, \"English\" : 75}\n",
    "    },\n",
    "    \"Student 3\":{\n",
    "        \"ID\" : \"12200\",\n",
    "        \"Gender\" : \"Female\",\n",
    "        \"GPA\" : 3.9,\n",
    "        \"Scholar\" : False,\n",
    "        \"Test Scores\" : {\"Math\" : 88, \"English\" : 85}\n",
    "    },\n",
    "    \"Student 4\":{\n",
    "        \"ID\" : \"12201\",\n",
    "        \"Gender\" : \"Female\",\n",
    "        \"GPA\" : 1.4,\n",
    "        \"Scholar\" : True,\n",
    "        \"Test Scores\" : {\"Math\" : 82, \"English\" : 82}\n",
    "    },\n",
    "    \"Student 5\":{\n",
    "        \"ID\" : \"12202\",\n",
    "        \"Gender\" : \"Female\",\n",
    "        \"GPA\" : 4.0,\n",
    "        \"Scholar\" : True,\n",
    "        \"Test Scores\" : {\"Math\" : 87, \"English\" : 91}\n",
    "    },\n",
    "    \"Student 6\":{\n",
    "        \"ID\" : \"12203\",\n",
    "        \"Gender\" : \"Male\",\n",
    "        \"GPA\" : 1.0,\n",
    "        \"Scholar\" : False,\n",
    "        \"Test Scores\" : {\"Math\" : 86, \"English\" : 92}\n",
    "    },\n",
    "    \"Student 7\":{\n",
    "        \"ID\" : \"12204\",\n",
    "        \"Gender\" : \"Female\",\n",
    "        \"GPA\" : 3.7,\n",
    "        \"Scholar\" : True,\n",
    "        \"Test Scores\" : {\"Math\" : 90, \"English\" : 95}\n",
    "    },\n",
    "}"
   ]
  },
  {
   "cell_type": "code",
   "execution_count": 21,
   "id": "af1cc358",
   "metadata": {},
   "outputs": [],
   "source": [
    "def gpa_ave(x, y):\n",
    "    average = 0\n",
    "    sum = 0\n",
    "    count = 0\n",
    "    for student_id, i in x.items():\n",
    "        student = x.get(student_id)\n",
    "        gender = student.get('Gender')\n",
    "\n",
    "        if y == 'Male':\n",
    "            if gender == 'Male':\n",
    "                gpa = student.get('GPA')\n",
    "                count += 1\n",
    "                sum = sum+gpa\n",
    "                average = sum / count\n",
    "                faverage = round(average, 2)\n",
    "        elif y == 'Female':\n",
    "            if gender == 'Female':  \n",
    "                gpa = student.get('GPA')\n",
    "                count += 1\n",
    "                sum = sum + gpa\n",
    "                average = sum / count\n",
    "                faverage = round(average, 2)\n",
    "    return faverage"
   ]
  },
  {
   "cell_type": "code",
   "execution_count": 22,
   "id": "b5eec1a6",
   "metadata": {},
   "outputs": [],
   "source": [
    "assert gpa_ave(cpe_directory, 'Male') == 1.97\n",
    "assert gpa_ave(cpe_directory, 'Female') == 3.25"
   ]
  }
 ],
 "metadata": {
  "kernelspec": {
   "display_name": "Python 3",
   "language": "python",
   "name": "python3"
  },
  "language_info": {
   "codemirror_mode": {
    "name": "ipython",
    "version": 3
   },
   "file_extension": ".py",
   "mimetype": "text/x-python",
   "name": "python",
   "nbconvert_exporter": "python",
   "pygments_lexer": "ipython3",
   "version": "3.12.1"
  }
 },
 "nbformat": 4,
 "nbformat_minor": 5
}
